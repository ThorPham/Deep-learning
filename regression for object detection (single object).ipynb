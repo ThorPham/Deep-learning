{
 "cells": [
  {
   "cell_type": "code",
   "execution_count": 274,
   "metadata": {
    "collapsed": true
   },
   "outputs": [],
   "source": [
    "# load thu vien\n",
    "import numpy as np\n",
    "import matplotlib.pyplot as plt\n",
    "import matplotlib\n",
    "%matplotlib inline"
   ]
  },
  {
   "cell_type": "code",
   "execution_count": 275,
   "metadata": {},
   "outputs": [],
   "source": [
    "# create dataset 5000 dataset, mỗi image có size= (8,8), bbox có kích thước 1-4 theo width và height\n",
    "# image có background màu trắng, bbox màu đen\n",
    "np.random.seed(10)\n",
    "number_data = 5000\n",
    "img_size = 8\n",
    "min_size_obj = 1\n",
    "max_size_obj = 4\n",
    "number_obj = 1\n",
    "# x là dataset image, y là label với 4 tham số(x,y,w.h)\n",
    "bboxes = np.zeros((5000,1,4))\n",
    "image = np.zeros((5000,img_size,img_size))\n",
    "for i in range(5000):\n",
    "    for obj in range(number_obj):\n",
    "        w,h = np.random.randint(min_size_obj,max_size_obj,size = 2)\n",
    "        x = np.random.randint(0,img_size-w)\n",
    "        y = np.random.randint(0,img_size-h)\n",
    "        bboxes[i,:,:] = (x,y,w,h)\n",
    "        image[i,y:y+h,x:x+w] = 1"
   ]
  },
  {
   "cell_type": "code",
   "execution_count": 276,
   "metadata": {},
   "outputs": [
    {
     "name": "stdout",
     "output_type": "stream",
     "text": [
      "(5000, 8, 8) (4,)\n"
     ]
    }
   ],
   "source": [
    "print(image.shape,bbox.shape,sep=\" \")"
   ]
  },
  {
   "cell_type": "code",
   "execution_count": 277,
   "metadata": {},
   "outputs": [
    {
     "data": {
      "image/png": "[encoded data removed]",
      "text/plain": [
       "<matplotlib.figure.Figure at 0x26886f98>"
      ]
     },
     "metadata": {},
     "output_type": "display_data"
    }
   ],
   "source": [
    "plt.figure(figsize=(15,15))\n",
    "for i in range(4):\n",
    "    plt.subplot(1,4,i+1)\n",
    "    plt.imshow(image[i],cmap=\"Greys\",interpolation='none', origin='lower', extent=[0, img_size, 0, img_size])\n",
    "    for bbox in bboxes[i]:\n",
    "        plt.gca().add_patch(matplotlib.patches.Rectangle((bbox[0], bbox[1]), bbox[2], bbox[3], ec='r', fc='none'))"
   ]
  },
  {
   "cell_type": "code",
   "execution_count": 278,
   "metadata": {},
   "outputs": [],
   "source": [
    "from sklearn.model_selection import train_test_split"
   ]
  },
  {
   "cell_type": "code",
   "execution_count": 290,
   "metadata": {},
   "outputs": [],
   "source": [
    "X = image.reshape((5000,-1))\n",
    "y = bboxes.reshape((5000,-1))"
   ]
  },
  {
   "cell_type": "code",
   "execution_count": 291,
   "metadata": {},
   "outputs": [],
   "source": [
    "# split data\n",
    "X_train,X_test,y_train,y_test = train_test_split(X,y,test_size=0.3,random_state=10)"
   ]
  },
  {
   "cell_type": "code",
   "execution_count": 292,
   "metadata": {},
   "outputs": [],
   "source": [
    "import keras\n",
    "from keras.models import Sequential\n",
    "from keras.layers import Dense,Dropout,Activation"
   ]
  },
  {
   "cell_type": "code",
   "execution_count": 293,
   "metadata": {},
   "outputs": [],
   "source": [
    "#build model\n",
    "model = Sequential()\n",
    "model.add(Dense(300,input_dim =64))\n",
    "model.add(Dense(100))\n",
    "model.add(Dropout(0.2))\n",
    "model.add(Activation(\"relu\"))\n",
    "model.add(Dense(4))\n",
    "model.compile(optimizer=\"adadelta\",loss=\"mse\")"
   ]
  },
  {
   "cell_type": "code",
   "execution_count": 294,
   "metadata": {},
   "outputs": [
    {
     "name": "stdout",
     "output_type": "stream",
     "text": [
      "_________________________________________________________________\n",
      "Layer (type)                 Output Shape              Param #   \n",
      "=================================================================\n",
      "dense_42 (Dense)             (None, 300)               19500     \n",
      "_________________________________________________________________\n",
      "dense_43 (Dense)             (None, 100)               30100     \n",
      "_________________________________________________________________\n",
      "dropout_17 (Dropout)         (None, 100)               0         \n",
      "_________________________________________________________________\n",
      "activation_14 (Activation)   (None, 100)               0         \n",
      "_________________________________________________________________\n",
      "dense_44 (Dense)             (None, 4)                 404       \n",
      "=================================================================\n",
      "Total params: 50,004\n",
      "Trainable params: 50,004\n",
      "Non-trainable params: 0\n",
      "_________________________________________________________________\n"
     ]
    }
   ],
   "source": [
    "model.summary()"
   ]
  },
  {
   "cell_type": "code",
   "execution_count": 295,
   "metadata": {},
   "outputs": [
    {
     "name": "stdout",
     "output_type": "stream",
     "text": [
      "Epoch 1/50\n",
      "3500/3500 [==============================] - 0s - loss: 5.6825     \n",
      "Epoch 2/50\n",
      "3500/3500 [==============================] - 0s - loss: 2.4551     \n",
      "Epoch 3/50\n",
      "3500/3500 [==============================] - 0s - loss: 1.5402     \n",
      "Epoch 4/50\n",
      "3500/3500 [==============================] - 0s - loss: 1.2739     \n",
      "Epoch 5/50\n",
      "3500/3500 [==============================] - 0s - loss: 1.0670     \n",
      "Epoch 6/50\n",
      "3500/3500 [==============================] - 0s - loss: 0.9027     \n",
      "Epoch 7/50\n",
      "3500/3500 [==============================] - 0s - loss: 0.7863     \n",
      "Epoch 8/50\n",
      "3500/3500 [==============================] - 0s - loss: 0.6900     \n",
      "Epoch 9/50\n",
      "3500/3500 [==============================] - 0s - loss: 0.6178     \n",
      "Epoch 10/50\n",
      "3500/3500 [==============================] - 0s - loss: 0.5769     \n",
      "Epoch 11/50\n",
      "3500/3500 [==============================] - 0s - loss: 0.5376     \n",
      "Epoch 12/50\n",
      "3500/3500 [==============================] - 0s - loss: 0.5002     \n",
      "Epoch 13/50\n",
      "3500/3500 [==============================] - 0s - loss: 0.4682     \n",
      "Epoch 14/50\n",
      "3500/3500 [==============================] - 0s - loss: 0.4451     \n",
      "Epoch 15/50\n",
      "3500/3500 [==============================] - 0s - loss: 0.4100     \n",
      "Epoch 16/50\n",
      "3500/3500 [==============================] - 0s - loss: 0.3933     \n",
      "Epoch 17/50\n",
      "3500/3500 [==============================] - 0s - loss: 0.3662     \n",
      "Epoch 18/50\n",
      "3500/3500 [==============================] - 0s - loss: 0.3516     \n",
      "Epoch 19/50\n",
      "3500/3500 [==============================] - 0s - loss: 0.3225     \n",
      "Epoch 20/50\n",
      "3500/3500 [==============================] - 0s - loss: 0.3064     \n",
      "Epoch 21/50\n",
      "3500/3500 [==============================] - 0s - loss: 0.2927     \n",
      "Epoch 22/50\n",
      "3500/3500 [==============================] - 0s - loss: 0.2699     \n",
      "Epoch 23/50\n",
      "3500/3500 [==============================] - 0s - loss: 0.2572     \n",
      "Epoch 24/50\n",
      "3500/3500 [==============================] - 0s - loss: 0.2389     \n",
      "Epoch 25/50\n",
      "3500/3500 [==============================] - 0s - loss: 0.2311     \n",
      "Epoch 26/50\n",
      "3500/3500 [==============================] - 0s - loss: 0.2185     \n",
      "Epoch 27/50\n",
      "3500/3500 [==============================] - 0s - loss: 0.2042     \n",
      "Epoch 28/50\n",
      "3500/3500 [==============================] - 0s - loss: 0.1982     \n",
      "Epoch 29/50\n",
      "3500/3500 [==============================] - 0s - loss: 0.1891     \n",
      "Epoch 30/50\n",
      "3500/3500 [==============================] - 0s - loss: 0.1824     \n",
      "Epoch 31/50\n",
      "3500/3500 [==============================] - 0s - loss: 0.1752     \n",
      "Epoch 32/50\n",
      "3500/3500 [==============================] - 0s - loss: 0.1703     \n",
      "Epoch 33/50\n",
      "3500/3500 [==============================] - 0s - loss: 0.1640     \n",
      "Epoch 34/50\n",
      "3500/3500 [==============================] - 0s - loss: 0.1550     \n",
      "Epoch 35/50\n",
      "3500/3500 [==============================] - 0s - loss: 0.1532     \n",
      "Epoch 36/50\n",
      "3500/3500 [==============================] - 0s - loss: 0.1495     \n",
      "Epoch 37/50\n",
      "3500/3500 [==============================] - 0s - loss: 0.1458     \n",
      "Epoch 38/50\n",
      "3500/3500 [==============================] - 0s - loss: 0.1464     \n",
      "Epoch 39/50\n",
      "3500/3500 [==============================] - 0s - loss: 0.1401     \n",
      "Epoch 40/50\n",
      "3500/3500 [==============================] - 0s - loss: 0.1389     \n",
      "Epoch 41/50\n",
      "3500/3500 [==============================] - 0s - loss: 0.1381     \n",
      "Epoch 42/50\n",
      "3500/3500 [==============================] - 0s - loss: 0.1325     \n",
      "Epoch 43/50\n",
      "3500/3500 [==============================] - 0s - loss: 0.1341     \n",
      "Epoch 44/50\n",
      "3500/3500 [==============================] - 0s - loss: 0.1275     \n",
      "Epoch 45/50\n",
      "3500/3500 [==============================] - 0s - loss: 0.1266     \n",
      "Epoch 46/50\n",
      "3500/3500 [==============================] - 0s - loss: 0.1275     \n",
      "Epoch 47/50\n",
      "3500/3500 [==============================] - 0s - loss: 0.1272     \n",
      "Epoch 48/50\n",
      "3500/3500 [==============================] - 0s - loss: 0.1234     \n",
      "Epoch 49/50\n",
      "3500/3500 [==============================] - 0s - loss: 0.1228     \n",
      "Epoch 50/50\n",
      "3500/3500 [==============================] - 0s - loss: 0.1209     \n"
     ]
    },
    {
     "data": {
      "text/plain": [
       "<keras.callbacks.History at 0x247ede10>"
      ]
     },
     "execution_count": 295,
     "metadata": {},
     "output_type": "execute_result"
    }
   ],
   "source": [
    "model.fit(X_train,y_train,epochs=50,batch_size=200)"
   ]
  },
  {
   "cell_type": "code",
   "execution_count": 296,
   "metadata": {
    "collapsed": true
   },
   "outputs": [],
   "source": [
    "y_predict = model.predict(X_test)"
   ]
  },
  {
   "cell_type": "code",
   "execution_count": 297,
   "metadata": {
    "collapsed": true
   },
   "outputs": [],
   "source": [
    "#dùng IOU để đánh giá kết quả model\n",
    "def overlaping_area(detection_1,detection_2):\n",
    "    #detection_1,detection_2 format [x_left_top,y_left_top,width,height]\n",
    "    x_1 = detection_1[0]\n",
    "    y_1 = detection_1[1]\n",
    "    x_w_1 = detection_1[0] + detection_1[2]\n",
    "    y_h_1 = detection_1[1] + detection_1[3]\n",
    "    \n",
    "    x_2 = detection_2[0]\n",
    "    y_2 = detection_2[1]\n",
    "    x_w_2 = detection_2[0] + detection_2[2]\n",
    "    y_h_2 = detection_2[1] + detection_2[3]\n",
    "    # tính overlap theo ox,oy .Nếu ko giao nhau trả về 0\n",
    "    overlap_x = max(0,min(x_w_1,x_w_2) - max(x_1,x_2))\n",
    "    overlap_y = max(0,min(y_h_1,y_h_2) - max(y_1,y_2))\n",
    "    # tính area overlap\n",
    "    overlap_area = overlap_x*overlap_y\n",
    "    # tính total area hợp của 2 detection\n",
    "    total_area = detection_1[2]*detection_1[3] + detection_2[2]*detection_2[3] - overlap_area\n",
    "    \n",
    "    return np.round(overlap_area/float(total_area),3)"
   ]
  },
  {
   "cell_type": "code",
   "execution_count": 298,
   "metadata": {},
   "outputs": [
    {
     "data": {
      "image/png": "[encoded data removed]",
      "text/plain": [
       "<matplotlib.figure.Figure at 0x26f13da0>"
      ]
     },
     "metadata": {},
     "output_type": "display_data"
    }
   ],
   "source": [
    "X_test_image = X_test.reshape((-1,8,8))\n",
    "bbox_y = y_predict.reshape((-1,1,4))\n",
    "bbx_y_true = y_test.reshape((-1,1,4))\n",
    "plt.figure(figsize=(15,15))\n",
    "for i in range(4):\n",
    "    iou = overlaping_area(bbox_y[i].flatten(),bbx_y_true[i].flatten())\n",
    "    plt.subplot(1,4,i+1)\n",
    "    plt.imshow(X_test_image[i],cmap=\"Greys\",interpolation='none', origin='lower', extent=[0, img_size, 0, img_size])\n",
    "    for bbox in bbox_y[i]:\n",
    "        plt.gca().add_patch(matplotlib.patches.Rectangle((bbox[0], bbox[1]), bbox[2], bbox[3], ec='r', fc='none'))\n",
    "        plt.title(\"IOU = \"+str(iou),color='blue')"
   ]
  },
  {
   "cell_type": "code",
   "execution_count": 299,
   "metadata": {},
   "outputs": [],
   "source": [
    "IOU = []\n",
    "for i in range(len(X_test)):\n",
    "    iou = overlaping_area(bbox_y[i].flatten(),bbx_y_true[i].flatten())\n",
    "    IOU.append(iou)"
   ]
  },
  {
   "cell_type": "code",
   "execution_count": 300,
   "metadata": {},
   "outputs": [
    {
     "data": {
      "text/plain": [
       "0.72560466666666679"
      ]
     },
     "execution_count": 300,
     "metadata": {},
     "output_type": "execute_result"
    }
   ],
   "source": [
    "np.mean(IOU)"
   ]
  },
  {
   "cell_type": "code",
   "execution_count": null,
   "metadata": {},
   "outputs": [],
   "source": []
  },
  {
   "cell_type": "code",
   "execution_count": null,
   "metadata": {
    "collapsed": true
   },
   "outputs": [],
   "source": []
  }
 ],
 "metadata": {
  "kernelspec": {
   "display_name": "Python 3",
   "language": "python",
   "name": "python3"
  },
  "language_info": {
   "codemirror_mode": {
    "name": "ipython",
    "version": 3
   },
   "file_extension": ".py",
   "mimetype": "text/x-python",
   "name": "python",
   "nbconvert_exporter": "python",
   "pygments_lexer": "ipython3",
   "version": "3.6.2"
  }
 },
 "nbformat": 4,
 "nbformat_minor": 2
}
