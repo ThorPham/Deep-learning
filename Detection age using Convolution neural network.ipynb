{
 "cells": [
  {
   "cell_type": "code",
   "execution_count": 1,
   "metadata": {
    "collapsed": true
   },
   "outputs": [],
   "source": [
    "import os\n",
    "import pandas as pd\n",
    "import numpy as np\n",
    "from PIL import Image\n",
    "import matplotlib.pyplot as plt\n",
    "import glob\n",
    "%matplotlib inline"
   ]
  },
  {
   "cell_type": "code",
   "execution_count": 2,
   "metadata": {
    "collapsed": true
   },
   "outputs": [],
   "source": [
    "train = pd.read_csv(\"train.csv\")"
   ]
  },
  {
   "cell_type": "code",
   "execution_count": 3,
   "metadata": {},
   "outputs": [
    {
     "data": {
      "text/html": [
       "<div>\n",
       "<style>\n",
       "    .dataframe thead tr:only-child th {\n",
       "        text-align: right;\n",
       "    }\n",
       "\n",
       "    .dataframe thead th {\n",
       "        text-align: left;\n",
       "    }\n",
       "\n",
       "    .dataframe tbody tr th {\n",
       "        vertical-align: top;\n",
       "    }\n",
       "</style>\n",
       "<table border=\"1\" class=\"dataframe\">\n",
       "  <thead>\n",
       "    <tr style=\"text-align: right;\">\n",
       "      <th></th>\n",
       "      <th>ID</th>\n",
       "      <th>Class</th>\n",
       "    </tr>\n",
       "  </thead>\n",
       "  <tbody>\n",
       "    <tr>\n",
       "      <th>0</th>\n",
       "      <td>377.jpg</td>\n",
       "      <td>MIDDLE</td>\n",
       "    </tr>\n",
       "    <tr>\n",
       "      <th>1</th>\n",
       "      <td>17814.jpg</td>\n",
       "      <td>YOUNG</td>\n",
       "    </tr>\n",
       "    <tr>\n",
       "      <th>2</th>\n",
       "      <td>21283.jpg</td>\n",
       "      <td>MIDDLE</td>\n",
       "    </tr>\n",
       "    <tr>\n",
       "      <th>3</th>\n",
       "      <td>16496.jpg</td>\n",
       "      <td>YOUNG</td>\n",
       "    </tr>\n",
       "    <tr>\n",
       "      <th>4</th>\n",
       "      <td>4487.jpg</td>\n",
       "      <td>MIDDLE</td>\n",
       "    </tr>\n",
       "  </tbody>\n",
       "</table>\n",
       "</div>"
      ],
      "text/plain": [
       "          ID   Class\n",
       "0    377.jpg  MIDDLE\n",
       "1  17814.jpg   YOUNG\n",
       "2  21283.jpg  MIDDLE\n",
       "3  16496.jpg   YOUNG\n",
       "4   4487.jpg  MIDDLE"
      ]
     },
     "execution_count": 3,
     "metadata": {},
     "output_type": "execute_result"
    }
   ],
   "source": [
    "train.head()"
   ]
  },
  {
   "cell_type": "code",
   "execution_count": 4,
   "metadata": {
    "collapsed": true
   },
   "outputs": [],
   "source": [
    "y_class = train[\"Class\"]"
   ]
  },
  {
   "cell_type": "code",
   "execution_count": 5,
   "metadata": {
    "collapsed": true
   },
   "outputs": [],
   "source": [
    "index = train[\"ID\"]"
   ]
  },
  {
   "cell_type": "code",
   "execution_count": 6,
   "metadata": {},
   "outputs": [
    {
     "data": {
      "text/plain": [
       "0      377.jpg\n",
       "1    17814.jpg\n",
       "2    21283.jpg\n",
       "3    16496.jpg\n",
       "4     4487.jpg\n",
       "Name: ID, dtype: object"
      ]
     },
     "execution_count": 6,
     "metadata": {},
     "output_type": "execute_result"
    }
   ],
   "source": [
    "index.head()"
   ]
  },
  {
   "cell_type": "code",
   "execution_count": 9,
   "metadata": {},
   "outputs": [],
   "source": [
    "path = os.path.join(os.getcwd(),\"train\")"
   ]
  },
  {
   "cell_type": "code",
   "execution_count": 10,
   "metadata": {},
   "outputs": [
    {
     "data": {
      "text/plain": [
       "'C:\\\\Users\\\\Thor\\\\Desktop\\\\Indian Movie Face database (IMFDB)\\\\train'"
      ]
     },
     "execution_count": 10,
     "metadata": {},
     "output_type": "execute_result"
    }
   ],
   "source": [
    "path"
   ]
  },
  {
   "cell_type": "code",
   "execution_count": 29,
   "metadata": {},
   "outputs": [],
   "source": [
    "image = []\n",
    "for i in index :\n",
    "    path_image = os.path.join(path,i)\n",
    "    image_file = Image.open(path_image)\n",
    "    image_resize = image_file.resize((32,32))\n",
    "    image_array = np.asarray(image_resize)\n",
    "    image.append(image_array)"
   ]
  },
  {
   "cell_type": "code",
   "execution_count": 31,
   "metadata": {},
   "outputs": [],
   "source": [
    "X_train = image[:1000]\n",
    "y_train = y_class[:1000]"
   ]
  },
  {
   "cell_type": "code",
   "execution_count": 33,
   "metadata": {},
   "outputs": [],
   "source": [
    "X_train = np.array(X_train).astype(np.float32)"
   ]
  },
  {
   "cell_type": "code",
   "execution_count": 34,
   "metadata": {
    "collapsed": true
   },
   "outputs": [],
   "source": [
    "y_train = pd.get_dummies(y_train)"
   ]
  },
  {
   "cell_type": "code",
   "execution_count": 35,
   "metadata": {
    "collapsed": true
   },
   "outputs": [],
   "source": [
    "y_train = np.array(y_train).astype(np.float32)"
   ]
  },
  {
   "cell_type": "code",
   "execution_count": 36,
   "metadata": {},
   "outputs": [
    {
     "data": {
      "text/plain": [
       "(1000, 32, 32, 3)"
      ]
     },
     "execution_count": 36,
     "metadata": {},
     "output_type": "execute_result"
    }
   ],
   "source": [
    "X_train.shape"
   ]
  },
  {
   "cell_type": "code",
   "execution_count": 37,
   "metadata": {},
   "outputs": [
    {
     "data": {
      "text/plain": [
       "(1000, 3)"
      ]
     },
     "execution_count": 37,
     "metadata": {},
     "output_type": "execute_result"
    }
   ],
   "source": [
    "y_train.shape"
   ]
  },
  {
   "cell_type": "code",
   "execution_count": 89,
   "metadata": {
    "collapsed": true
   },
   "outputs": [],
   "source": [
    "#build model\n",
    "import tensorflow as tf"
   ]
  },
  {
   "cell_type": "code",
   "execution_count": 116,
   "metadata": {},
   "outputs": [],
   "source": [
    "# Variable\n",
    "def Variable(shape):\n",
    "    init = tf.truncated_normal(shape,stddev=0.1)\n",
    "    return tf.Variable(init)\n",
    "def Bias(shape):\n",
    "    bias = tf.constant(0.1,shape=shape)\n",
    "    return tf.Variable(bias)"
   ]
  },
  {
   "cell_type": "code",
   "execution_count": 117,
   "metadata": {
    "collapsed": true
   },
   "outputs": [],
   "source": [
    "# helper function\n",
    "def convolu(x,w):\n",
    "    return tf.nn.conv2d(x,w,strides=[1,1,1,1],padding=\"SAME\")\n",
    "\n",
    "def convolu_max_pool(x):\n",
    "    return tf.nn.max_pool(x,ksize=[1,2,2,1],strides=[1,2,2,1],padding=\"SAME\")"
   ]
  },
  {
   "cell_type": "code",
   "execution_count": 118,
   "metadata": {
    "collapsed": true
   },
   "outputs": [],
   "source": [
    "def convolution_layer(input,shape):\n",
    "    w = Variable(shape)\n",
    "    b = Bias([shape[3]])\n",
    "    return tf.nn.relu(convol(input,w) + b)"
   ]
  },
  {
   "cell_type": "code",
   "execution_count": 119,
   "metadata": {
    "collapsed": true
   },
   "outputs": [],
   "source": [
    "def fully_layer(input,size):\n",
    "    in_size = int(input.get_shape()[1])\n",
    "    w = Variable([in_size,size])\n",
    "    b = Bias([size])\n",
    "    return tf.matmul(input,w) + b\n",
    "    "
   ]
  },
  {
   "cell_type": "code",
   "execution_count": 120,
   "metadata": {
    "collapsed": true
   },
   "outputs": [],
   "source": [
    "X = tf.placeholder(tf.float32,shape=[None,32,32,3])\n",
    "y = tf.placeholder(tf.float32,shape=[None,3])"
   ]
  },
  {
   "cell_type": "code",
   "execution_count": 122,
   "metadata": {},
   "outputs": [],
   "source": [
    "convol_1= convolution_layer(X,shape=[5,5,3,32])\n",
    "convol_1_max_pool = convolu_max_pool(convol_1)"
   ]
  },
  {
   "cell_type": "code",
   "execution_count": 123,
   "metadata": {
    "collapsed": true
   },
   "outputs": [],
   "source": [
    "convol_2 = convolution_layer(convol_1_max_pool,[5,5,32,64])\n",
    "convol_2_max_pool = convolu_max_pool(convol_2)"
   ]
  },
  {
   "cell_type": "code",
   "execution_count": 124,
   "metadata": {
    "collapsed": true
   },
   "outputs": [],
   "source": [
    "conv2_flat = tf.reshape(convol_2_max_pool,[-1,8*8*64])"
   ]
  },
  {
   "cell_type": "code",
   "execution_count": 125,
   "metadata": {
    "collapsed": true
   },
   "outputs": [],
   "source": [
    "fully_connect = tf.nn.relu(fully_layer(conv2_flat,1024))"
   ]
  },
  {
   "cell_type": "code",
   "execution_count": 127,
   "metadata": {},
   "outputs": [],
   "source": [
    "keep_prob = tf.placeholder(tf.float32)\n",
    "full1_drop = tf.nn.dropout(fully_connect, keep_prob=keep_prob)"
   ]
  },
  {
   "cell_type": "code",
   "execution_count": 128,
   "metadata": {
    "collapsed": true
   },
   "outputs": [],
   "source": [
    "y_conv = full_layer(full1_drop, 3)"
   ]
  },
  {
   "cell_type": "code",
   "execution_count": 135,
   "metadata": {},
   "outputs": [],
   "source": [
    "cross_entropy = tf.reduce_mean(tf.nn.softmax_cross_entropy_with_logits(labels=y,logits=y_conv))\n",
    "optimizer = tf.train.AdamOptimizer(1e-4).minimize(cross_entropy)\n",
    "correct_prediction = tf.equal(tf.argmax(y_conv, 1), tf.argmax(y, 1))\n",
    "accuracy = tf.reduce_mean(tf.cast(correct_prediction, tf.float32))"
   ]
  },
  {
   "cell_type": "code",
   "execution_count": 136,
   "metadata": {},
   "outputs": [
    {
     "name": "stdout",
     "output_type": "stream",
     "text": [
      "step : 10 accuracy : 0.58\n",
      "step : 20 accuracy : 0.46\n",
      "step : 30 accuracy : 0.58\n",
      "step : 40 accuracy : 0.44\n",
      "step : 50 accuracy : 0.6\n",
      "step : 60 accuracy : 0.46\n",
      "step : 70 accuracy : 0.58\n",
      "step : 80 accuracy : 0.52\n",
      "step : 90 accuracy : 0.58\n",
      "step : 100 accuracy : 0.58\n",
      "step : 110 accuracy : 0.58\n",
      "step : 120 accuracy : 0.68\n",
      "step : 130 accuracy : 0.72\n",
      "step : 140 accuracy : 0.62\n",
      "step : 150 accuracy : 0.78\n",
      "step : 160 accuracy : 0.72\n",
      "step : 170 accuracy : 0.6\n",
      "step : 180 accuracy : 0.84\n",
      "step : 190 accuracy : 0.74\n",
      "step : 200 accuracy : 0.8\n",
      "step : 210 accuracy : 0.76\n",
      "step : 220 accuracy : 0.82\n",
      "step : 230 accuracy : 0.66\n",
      "step : 240 accuracy : 0.86\n",
      "step : 250 accuracy : 0.86\n",
      "step : 260 accuracy : 0.86\n",
      "step : 270 accuracy : 0.88\n",
      "step : 280 accuracy : 0.78\n",
      "step : 290 accuracy : 0.8\n",
      "step : 300 accuracy : 0.86\n",
      "step : 310 accuracy : 0.84\n",
      "step : 320 accuracy : 0.76\n",
      "step : 330 accuracy : 0.88\n",
      "step : 340 accuracy : 0.86\n",
      "step : 350 accuracy : 0.9\n",
      "step : 360 accuracy : 0.8\n",
      "step : 370 accuracy : 0.94\n",
      "step : 380 accuracy : 0.9\n",
      "step : 390 accuracy : 0.94\n",
      "step : 400 accuracy : 0.9\n",
      "step : 410 accuracy : 0.94\n",
      "step : 420 accuracy : 0.9\n",
      "step : 430 accuracy : 0.9\n",
      "step : 440 accuracy : 0.88\n",
      "step : 450 accuracy : 0.96\n",
      "step : 460 accuracy : 0.96\n",
      "step : 470 accuracy : 0.9\n",
      "step : 480 accuracy : 0.96\n",
      "step : 490 accuracy : 0.92\n",
      "step : 500 accuracy : 0.88\n",
      "step : 510 accuracy : 0.84\n",
      "step : 520 accuracy : 0.9\n",
      "step : 530 accuracy : 0.96\n",
      "step : 540 accuracy : 0.98\n",
      "step : 550 accuracy : 0.98\n",
      "step : 560 accuracy : 0.96\n",
      "step : 570 accuracy : 0.98\n",
      "step : 580 accuracy : 0.96\n",
      "step : 590 accuracy : 0.92\n",
      "step : 600 accuracy : 0.9\n",
      "step : 610 accuracy : 0.94\n",
      "step : 620 accuracy : 0.96\n",
      "step : 630 accuracy : 0.96\n",
      "step : 640 accuracy : 0.96\n",
      "step : 650 accuracy : 0.92\n",
      "step : 660 accuracy : 0.98\n",
      "step : 670 accuracy : 1.0\n",
      "step : 680 accuracy : 0.98\n",
      "step : 690 accuracy : 1.0\n",
      "step : 700 accuracy : 0.96\n",
      "step : 710 accuracy : 0.92\n",
      "step : 720 accuracy : 1.0\n",
      "step : 730 accuracy : 0.98\n",
      "step : 740 accuracy : 1.0\n",
      "step : 750 accuracy : 1.0\n",
      "step : 760 accuracy : 0.98\n",
      "step : 770 accuracy : 0.94\n",
      "step : 780 accuracy : 1.0\n",
      "step : 790 accuracy : 1.0\n",
      "step : 800 accuracy : 0.98\n",
      "step : 810 accuracy : 1.0\n",
      "step : 820 accuracy : 0.98\n",
      "step : 830 accuracy : 0.98\n",
      "step : 840 accuracy : 1.0\n",
      "step : 850 accuracy : 0.96\n",
      "step : 860 accuracy : 0.98\n",
      "step : 870 accuracy : 1.0\n",
      "step : 880 accuracy : 0.9\n",
      "step : 890 accuracy : 0.98\n",
      "step : 900 accuracy : 1.0\n",
      "step : 910 accuracy : 1.0\n",
      "step : 920 accuracy : 1.0\n",
      "step : 930 accuracy : 0.98\n",
      "step : 940 accuracy : 0.98\n",
      "step : 950 accuracy : 1.0\n",
      "step : 960 accuracy : 1.0\n",
      "step : 970 accuracy : 0.98\n",
      "step : 980 accuracy : 0.98\n",
      "step : 990 accuracy : 0.98\n",
      "step : 1000 accuracy : 1.0\n"
     ]
    }
   ],
   "source": [
    "init = tf.global_variables_initializer()\n",
    "with tf.Session() as sess :\n",
    "    sess.run(init)\n",
    "    for i in range(1000):\n",
    "        batch_size = np.random.randint(len(X_train),size =50)\n",
    "        sess.run(optimizer,feed_dict={X:X_train[batch_size],y:y_train[batch_size],keep_prob: 1.0})\n",
    "        if (i+1)%10==0 :\n",
    "            accuracy1 = sess.run(accuracy,feed_dict={X:X_train[batch_size],y:y_train[batch_size],keep_prob: 1.0})\n",
    "            print(\"step :\",i+1,\"accuracy :\",accuracy1)"
   ]
  },
  {
   "cell_type": "code",
   "execution_count": null,
   "metadata": {
    "collapsed": true
   },
   "outputs": [],
   "source": []
  }
 ],
 "metadata": {
  "kernelspec": {
   "display_name": "Python 3",
   "language": "python",
   "name": "python3"
  },
  "language_info": {
   "codemirror_mode": {
    "name": "ipython",
    "version": 3
   },
   "file_extension": ".py",
   "mimetype": "text/x-python",
   "name": "python",
   "nbconvert_exporter": "python",
   "pygments_lexer": "ipython3",
   "version": "3.6.2"
  }
 },
 "nbformat": 4,
 "nbformat_minor": 2
}
