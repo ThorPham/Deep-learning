{
    "nbformat_minor": 1, 
    "cells": [
        {
            "source": "import numpy as np\nimport pandas as pd\nimport matplotlib.pyplot as plt\n%matplotlib inline", 
            "execution_count": 84, 
            "cell_type": "code", 
            "outputs": [], 
            "metadata": {}
        }, 
        {
            "source": "# Load datasets\nfrom keras.datasets import mnist", 
            "execution_count": 85, 
            "cell_type": "code", 
            "outputs": [], 
            "metadata": {}
        }, 
        {
            "source": "(x_train,y_train),(x_test,y_test) = mnist.load_data()", 
            "execution_count": 86, 
            "cell_type": "code", 
            "outputs": [], 
            "metadata": {}
        }, 
        {
            "source": "# check dimension of train and test dataset\nprint(\"Shape of training data :\",\"train \",x_train.shape,\"test \",y_train.shape,sep =\"\\n\")", 
            "execution_count": 87, 
            "cell_type": "code", 
            "outputs": [
                {
                    "name": "stdout", 
                    "text": "Shape of training data :\ntrain \n(60000, 28, 28)\ntest \n(60000,)\n", 
                    "output_type": "stream"
                }
            ], 
            "metadata": {}
        }, 
        {
            "source": "print(\"Shape of testing data :\",\"test \",x_test.shape,\"test \",y_test.shape,sep =\"\\n\")", 
            "execution_count": 88, 
            "cell_type": "code", 
            "outputs": [
                {
                    "name": "stdout", 
                    "text": "Shape of testing data :\ntest \n(10000, 28, 28)\ntest \n(10000,)\n", 
                    "output_type": "stream"
                }
            ], 
            "metadata": {}
        }, 
        {
            "source": "from keras.models import Sequential\nfrom keras.layers import Dense,Activation,Conv2D, MaxPool2D, Flatten\nfrom keras import backend as tensorflow", 
            "execution_count": 89, 
            "cell_type": "code", 
            "outputs": [], 
            "metadata": {}
        }, 
        {
            "source": "", 
            "execution_count": null, 
            "cell_type": "code", 
            "outputs": [], 
            "metadata": {}
        }, 
        {
            "source": "from keras.utils import to_categorical", 
            "execution_count": 90, 
            "cell_type": "code", 
            "outputs": [], 
            "metadata": {}
        }, 
        {
            "source": "y_train_label = to_categorical(y_train,num_classes=10)\nprint(y_train_label[1])", 
            "execution_count": 91, 
            "cell_type": "code", 
            "outputs": [
                {
                    "name": "stdout", 
                    "text": "[ 1.  0.  0.  0.  0.  0.  0.  0.  0.  0.]\n", 
                    "output_type": "stream"
                }
            ], 
            "metadata": {}
        }, 
        {
            "source": "x_train_reshape = x_train.reshape(-1,1,28,28).astype(\"float32\")\nx_test_reshape = x_test.reshape(-1,1,28,28).astype(\"float32\")", 
            "execution_count": 92, 
            "cell_type": "code", 
            "outputs": [], 
            "metadata": {}
        }, 
        {
            "source": "# Build model\nmodel = Sequential()", 
            "execution_count": 93, 
            "cell_type": "code", 
            "outputs": [], 
            "metadata": {}
        }, 
        {
            "source": "model.add(Conv2D(filters=32,kernel_size=(5,5),strides=(1,1),activation=\"relu\",padding=\"same\",input_shape=(1,28,28)))", 
            "execution_count": 94, 
            "cell_type": "code", 
            "outputs": [], 
            "metadata": {}
        }, 
        {
            "source": "model.add(MaxPool2D(pool_size=(2,2),strides=(2,2),padding=\"same\"))", 
            "execution_count": 95, 
            "cell_type": "code", 
            "outputs": [], 
            "metadata": {}
        }, 
        {
            "source": "model.add(Conv2D(filters=64,kernel_size=(5,5),strides=(1,1),activation=\"relu\",padding=\"same\"))", 
            "execution_count": 96, 
            "cell_type": "code", 
            "outputs": [], 
            "metadata": {}
        }, 
        {
            "source": "model.add(MaxPool2D(pool_size=(2,2),strides=(2,2),padding=\"same\"))", 
            "execution_count": 97, 
            "cell_type": "code", 
            "outputs": [], 
            "metadata": {}
        }, 
        {
            "source": "model.add(Flatten())", 
            "execution_count": 98, 
            "cell_type": "code", 
            "outputs": [], 
            "metadata": {}
        }, 
        {
            "source": "model.add(Dense(1024,activation=\"relu\"))", 
            "execution_count": 99, 
            "cell_type": "code", 
            "outputs": [], 
            "metadata": {}
        }, 
        {
            "source": "model.add(Dense(10,activation=\"softmax\"))", 
            "execution_count": 100, 
            "cell_type": "code", 
            "outputs": [], 
            "metadata": {}
        }, 
        {
            "source": "model.summary()", 
            "execution_count": 111, 
            "cell_type": "code", 
            "outputs": [
                {
                    "name": "stdout", 
                    "text": "_________________________________________________________________\nLayer (type)                 Output Shape              Param #   \n=================================================================\nconv2d_14 (Conv2D)           (None, 1, 28, 32)         22432     \n_________________________________________________________________\nmax_pooling2d_7 (MaxPooling2 (None, 1, 14, 32)         0         \n_________________________________________________________________\nconv2d_15 (Conv2D)           (None, 1, 14, 64)         51264     \n_________________________________________________________________\nmax_pooling2d_8 (MaxPooling2 (None, 1, 7, 64)          0         \n_________________________________________________________________\nflatten_4 (Flatten)          (None, 448)               0         \n_________________________________________________________________\ndense_7 (Dense)              (None, 1024)              459776    \n_________________________________________________________________\ndense_8 (Dense)              (None, 10)                10250     \n=================================================================\nTotal params: 543,722\nTrainable params: 543,722\nNon-trainable params: 0\n_________________________________________________________________\n", 
                    "output_type": "stream"
                }
            ], 
            "metadata": {}
        }, 
        {
            "source": "model.compile(optimizer=\"Adam\",loss =\"categorical_crossentropy\",metrics=[\"accuracy\"])", 
            "execution_count": 101, 
            "cell_type": "code", 
            "outputs": [], 
            "metadata": {}
        }, 
        {
            "source": "model.fit(x_train_reshape,y_train_label,epochs = 20,batch_size= 100,verbose=2,validation_split=0.2)", 
            "execution_count": 102, 
            "cell_type": "code", 
            "outputs": [
                {
                    "name": "stdout", 
                    "text": "Train on 48000 samples, validate on 12000 samples\nEpoch 1/20\n26s - loss: 0.4947 - acc: 0.9149 - val_loss: 0.0952 - val_acc: 0.9705\nEpoch 2/20\n26s - loss: 0.0830 - acc: 0.9741 - val_loss: 0.1044 - val_acc: 0.9681\nEpoch 3/20\n26s - loss: 0.0586 - acc: 0.9822 - val_loss: 0.0772 - val_acc: 0.9776\nEpoch 4/20\n26s - loss: 0.0492 - acc: 0.9844 - val_loss: 0.0788 - val_acc: 0.9789\nEpoch 5/20\n26s - loss: 0.0488 - acc: 0.9853 - val_loss: 0.0822 - val_acc: 0.9778\nEpoch 6/20\n26s - loss: 0.0408 - acc: 0.9870 - val_loss: 0.0892 - val_acc: 0.9789\nEpoch 7/20\n26s - loss: 0.0377 - acc: 0.9886 - val_loss: 0.1098 - val_acc: 0.9755\nEpoch 8/20\n26s - loss: 0.0421 - acc: 0.9884 - val_loss: 0.1135 - val_acc: 0.9744\nEpoch 9/20\n26s - loss: 0.0447 - acc: 0.9876 - val_loss: 0.1108 - val_acc: 0.9772\nEpoch 10/20\n26s - loss: 0.0437 - acc: 0.9885 - val_loss: 0.1380 - val_acc: 0.9769\nEpoch 11/20\n26s - loss: 0.0482 - acc: 0.9876 - val_loss: 0.1252 - val_acc: 0.9780\nEpoch 12/20\n26s - loss: 0.0394 - acc: 0.9898 - val_loss: 0.1051 - val_acc: 0.9807\nEpoch 13/20\n26s - loss: 0.0295 - acc: 0.9919 - val_loss: 0.1132 - val_acc: 0.9798\nEpoch 14/20\n26s - loss: 0.0335 - acc: 0.9918 - val_loss: 0.1176 - val_acc: 0.9812\nEpoch 15/20\n26s - loss: 0.0471 - acc: 0.9898 - val_loss: 0.1397 - val_acc: 0.9792\nEpoch 16/20\n26s - loss: 0.0431 - acc: 0.9903 - val_loss: 0.1409 - val_acc: 0.9791\nEpoch 17/20\n26s - loss: 0.0325 - acc: 0.9929 - val_loss: 0.1360 - val_acc: 0.9818\nEpoch 18/20\n26s - loss: 0.0413 - acc: 0.9921 - val_loss: 0.1365 - val_acc: 0.9809\nEpoch 19/20\n26s - loss: 0.0529 - acc: 0.9903 - val_loss: 0.1612 - val_acc: 0.9790\nEpoch 20/20\n26s - loss: 0.0555 - acc: 0.9912 - val_loss: 0.1701 - val_acc: 0.9783\n", 
                    "output_type": "stream"
                }, 
                {
                    "data": {
                        "text/plain": "<keras.callbacks.History at 0x7fe62c80ada0>"
                    }, 
                    "execution_count": 102, 
                    "output_type": "execute_result", 
                    "metadata": {}
                }
            ], 
            "metadata": {}
        }, 
        {
            "source": "from sklearn.metrics import accuracy_score", 
            "execution_count": 104, 
            "cell_type": "code", 
            "outputs": [], 
            "metadata": {}
        }, 
        {
            "source": "y_pre = model.predict(x_test_reshape)", 
            "execution_count": 106, 
            "cell_type": "code", 
            "outputs": [], 
            "metadata": {}
        }, 
        {
            "source": "y_pre = np.argmax(y_pre,axis=1)", 
            "execution_count": 107, 
            "cell_type": "code", 
            "outputs": [], 
            "metadata": {}
        }, 
        {
            "source": "print(accuracy_score(y_test,y_pre))", 
            "execution_count": 109, 
            "cell_type": "code", 
            "outputs": [
                {
                    "name": "stdout", 
                    "text": "0.9784\n", 
                    "output_type": "stream"
                }
            ], 
            "metadata": {}
        }, 
        {
            "source": "", 
            "execution_count": null, 
            "cell_type": "code", 
            "outputs": [], 
            "metadata": {}
        }, 
        {
            "source": "", 
            "execution_count": null, 
            "cell_type": "code", 
            "outputs": [], 
            "metadata": {}
        }
    ], 
    "nbformat": 4, 
    "metadata": {
        "kernelspec": {
            "name": "python3-spark21", 
            "language": "python", 
            "display_name": "Python 3.5 (Experimental) with Spark 2.1"
        }
    }
}